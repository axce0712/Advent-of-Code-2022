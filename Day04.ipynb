{
 "cells": [
  {
   "cell_type": "markdown",
   "metadata": {
    "dotnet_interactive": {
     "language": "csharp"
    }
   },
   "source": [
    "# Day 4: Camp Cleanup\n",
    "\n",
    "[https://adventofcode.com/2022/day/4](https://adventofcode.com/2022/day/4)\n",
    "\n",
    "## Description\n",
    "\n",
    "### Part One\n",
    "\n",
    "Space needs to be cleared before the last supplies can be unloaded from the ships, and so several Elves have been assigned the job of cleaning up sections of the camp. Every section has a unique _ID number_, and each Elf is assigned a range of section IDs.\n",
    "\n",
    "However, as some of the Elves compare their section assignments with each other, they've noticed that many of the assignments _overlap_. To try to quickly find overlaps and reduce duplicated effort, the Elves pair up and make a _big list of the section assignments for each pair_ (your puzzle input).\n",
    "\n",
    "For example, consider the following list of section assignment pairs:\n",
    "\n",
    "    2-4,6-8\n",
    "    2-3,4-5\n",
    "    5-7,7-9\n",
    "    2-8,3-7\n",
    "    6-6,4-6\n",
    "    2-6,4-8\n",
    "    \n",
    "\n",
    "For the first few pairs, this list means:\n",
    "\n",
    "*   Within the first pair of Elves, the first Elf was assigned sections `2-4` (sections `2`, `3`, and `4`), while the second Elf was assigned sections `6-8` (sections `6`, `7`, `8`).\n",
    "*   The Elves in the second pair were each assigned two sections.\n",
    "*   The Elves in the third pair were each assigned three sections: one got sections `5`, `6`, and `7`, while the other also got `7`, plus `8` and `9`.\n",
    "\n",
    "This example list uses single-digit section IDs to make it easier to draw; your actual list might contain larger numbers. Visually, these pairs of section assignments look like this:\n",
    "\n",
    "    .234.....  2-4\n",
    "    .....678.  6-8\n",
    "    \n",
    "    .23......  2-3\n",
    "    ...45....  4-5\n",
    "    \n",
    "    ....567..  5-7\n",
    "    ......789  7-9\n",
    "    \n",
    "    .2345678.  2-8\n",
    "    ..34567..  3-7\n",
    "    \n",
    "    .....6...  6-6\n",
    "    ...456...  4-6\n",
    "    \n",
    "    .23456...  2-6\n",
    "    ...45678.  4-8\n",
    "    \n",
    "\n",
    "Some of the pairs have noticed that one of their assignments _fully contains_ the other. For example, `2-8` fully contains `3-7`, and `6-6` is fully contained by `4-6`. In pairs where one assignment fully contains the other, one Elf in the pair would be exclusively cleaning sections their partner will already be cleaning, so these seem like the most in need of reconsideration. In this example, there are _`2`_ such pairs.\n",
    "\n",
    "_In how many assignment pairs does one range fully contain the other?_"
   ]
  },
  {
   "cell_type": "code",
   "execution_count": 5,
   "metadata": {
    "dotnet_interactive": {
     "language": "fsharp"
    },
    "vscode": {
     "languageId": "dotnet-interactive.fsharp"
    }
   },
   "outputs": [
    {
     "name": "stdout",
     "output_type": "stream",
     "text": [
      "602\r\n"
     ]
    }
   ],
   "source": [
    "open System.IO\n",
    "\n",
    "type Section = { Start: int; End: int }\n",
    "\n",
    "type Assignment = { First: Section; Second: Section }\n",
    "    \n",
    "let parse (line : string) = // \"3-78,73-77\"\n",
    "    let [| [| s1; e1 |]; [| s2; e2 |] |] =\n",
    "        line.Split(\",\") // [\"3-78\";\"73-77\"]\n",
    "        |> Array.map (fun x -> x.Split(\"-\")) // [[\"3\";\"78\"];[\"73\";\"77\"]]\n",
    "        \n",
    "    { First = { Start = int s1; End = int e1 }\n",
    "      Second = { Start = int s2; End = int e2 } }\n",
    "\n",
    "let isSubset s1 s2 =\n",
    "    s1.Start <= s2.Start && s1.End >= s2.End\n",
    "\n",
    "let containsFully s1 s2 =\n",
    "    isSubset s1 s2 || isSubset s2 s1\n",
    "\n",
    "let solve f lines =\n",
    "    lines\n",
    "    |> Seq.map parse\n",
    "    |> Seq.filter (fun { First = s1; Second = s2 } -> f s1 s2)\n",
    "    |> Seq.length\n",
    "\n",
    "let input = File.ReadLines (Path.Combine (__SOURCE_DIRECTORY__, \"Day04\", \"input.txt\"))\n",
    "printfn \"%i\" (solve containsFully input)"
   ]
  },
  {
   "cell_type": "markdown",
   "metadata": {},
   "source": [
    "### Part Two\n",
    "\n",
    "It seems like there is still quite a bit of duplicate work planned. Instead, the Elves would <span title=\"If you like this, you'll *love* axis-aligned bounding box intersection testing.\">like</span> to know the number of pairs that _overlap at all_.\n",
    "\n",
    "In the above example, the first two pairs (`2-4,6-8` and `2-3,4-5`) don't overlap, while the remaining four pairs (`5-7,7-9`, `2-8,3-7`, `6-6,4-6`, and `2-6,4-8`) do overlap:\n",
    "\n",
    "*   `5-7,7-9` overlaps in a single section, `7`.\n",
    "*   `2-8,3-7` overlaps all of the sections `3` through `7`.\n",
    "*   `6-6,4-6` overlaps in a single section, `6`.\n",
    "*   `2-6,4-8` overlaps in sections `4`, `5`, and `6`.\n",
    "\n",
    "So, in this example, the number of overlapping assignment pairs is _`4`_.\n",
    "\n",
    "_In how many assignment pairs do the ranges overlap?_"
   ]
  },
  {
   "cell_type": "code",
   "execution_count": 6,
   "metadata": {
    "dotnet_interactive": {
     "language": "fsharp"
    },
    "vscode": {
     "languageId": "dotnet-interactive.fsharp"
    }
   },
   "outputs": [
    {
     "name": "stdout",
     "output_type": "stream",
     "text": [
      "891\r\n"
     ]
    }
   ],
   "source": [
    "let isOverlapping s1 s2 =\n",
    "    s1.End >= s2.Start && s1.Start <= s2.End\n",
    "\n",
    "printfn \"%i\" (solve isOverlapping input)"
   ]
  }
 ],
 "metadata": {
  "kernelspec": {
   "display_name": ".NET (C#)",
   "language": "C#",
   "name": ".net-csharp"
  },
  "language_info": {
   "file_extension": ".cs",
   "mimetype": "text/x-csharp",
   "name": "C#",
   "pygments_lexer": "csharp",
   "version": "9.0"
  },
  "orig_nbformat": 4
 },
 "nbformat": 4,
 "nbformat_minor": 2
}
